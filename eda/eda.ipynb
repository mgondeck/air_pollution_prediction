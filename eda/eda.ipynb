{
 "cells": [
  {
   "cell_type": "markdown",
   "id": "4bb78f10-c188-49a1-a118-c90dbbe18642",
   "metadata": {},
   "source": [
    "## EDA ##"
   ]
  },
  {
   "cell_type": "code",
   "execution_count": null,
   "id": "fa44b8e6-057c-4499-b48b-daee1ee0c017",
   "metadata": {},
   "outputs": [],
   "source": [
    "# load dataset \n",
    "\n"
   ]
  }
 ],
 "metadata": {
  "kernelspec": {
   "display_name": "Python 3 (ipykernel)",
   "language": "python",
   "name": "python3"
  },
  "language_info": {
   "codemirror_mode": {
    "name": "ipython",
    "version": 3
   },
   "file_extension": ".py",
   "mimetype": "text/x-python",
   "name": "python",
   "nbconvert_exporter": "python",
   "pygments_lexer": "ipython3",
   "version": "3.11.3"
  }
 },
 "nbformat": 4,
 "nbformat_minor": 5
}
