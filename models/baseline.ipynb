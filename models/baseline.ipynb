{
 "cells": [
  {
   "cell_type": "markdown",
   "id": "4bb78f10-c188-49a1-a118-c90dbbe18642",
   "metadata": {},
   "source": [
    "## EDA ##"
   ]
  },
  {
   "cell_type": "markdown",
   "id": "e4811e0e-0ed5-45c1-bd17-7ca6030d47fa",
   "metadata": {},
   "source": [
    "Here we clean the data:\n",
    "\n",
    "1. remove unnecessary columns\n",
    "2. change data types \n",
    "3. fill missing values \n",
    "4. round data "
   ]
  },
  {
   "cell_type": "code",
   "execution_count": 6,
   "id": "b4961fb6-7404-4c36-9345-585cee365a56",
   "metadata": {
    "tags": []
   },
   "outputs": [],
   "source": [
    "# packages\n",
    "import pandas as pd\n",
    "import numpy as np\n",
    "from sklearn.model_selection import train_test_split\n",
    "import seaborn as sns\n",
    "from sklearn.preprocessing import StandardScaler\n",
    "from sklearn.compose import ColumnTransformer\n",
    "from sklearn.pipeline import Pipeline\n",
    "from sklearn.tree import DecisionTreeRegressor\n",
    "from sklearn.ensemble import RandomForestRegressor\n",
    "from sklearn.model_selection import GridSearchCV\n",
    "from sklearn.metrics import mean_squared_error, r2_score\n",
    "from sklearn.impute import SimpleImputer"
   ]
  },
  {
   "cell_type": "code",
   "execution_count": 7,
   "id": "fa44b8e6-057c-4499-b48b-daee1ee0c017",
   "metadata": {
    "tags": []
   },
   "outputs": [],
   "source": [
    "# read in the data\n",
    "df = pd.read_csv(\"../data/Train.csv\", sep = ',')"
   ]
  },
  {
   "cell_type": "markdown",
   "id": "12ca18e3-508a-45d9-b43a-1c27dcaf0fce",
   "metadata": {},
   "source": [
    "**Delete columns**"
   ]
  },
  {
   "cell_type": "code",
   "execution_count": 3,
   "id": "7a88f49d-245c-49d8-a29c-e7e3d791e72e",
   "metadata": {
    "tags": []
   },
   "outputs": [],
   "source": [
    "columns_to_delete = ['Place_ID X Date', \n",
    "                     'target_min', \n",
    "                     'target_max',\n",
    "                     'target_variance', \n",
    "                     'target_count', \n",
    "                     'relative_humidity_2m_above_ground', \n",
    "                     'L3_NO2_NO2_slant_column_number_density',\n",
    "                     'L3_NO2_stratospheric_NO2_column_number_density',  \n",
    "                     'L3_SO2_SO2_slant_column_number_density',\n",
    "                     #removing all sensor data and zenith and azimuth angle data\n",
    "                     'L3_NO2_sensor_altitude', \n",
    "                     'L3_NO2_sensor_azimuth_angle',\n",
    "                     'L3_NO2_sensor_zenith_angle', \n",
    "                     'L3_NO2_solar_azimuth_angle',\n",
    "                     'L3_NO2_solar_zenith_angle',                  \n",
    "                     'L3_O3_sensor_azimuth_angle',\n",
    "                     'L3_O3_sensor_zenith_angle', \n",
    "                     'L3_O3_solar_azimuth_angle',\n",
    "                     'L3_O3_solar_zenith_angle',\n",
    "                     'L3_CO_sensor_altitude', \n",
    "                     'L3_CO_sensor_azimuth_angle',\n",
    "                     'L3_CO_sensor_zenith_angle', \n",
    "                     'L3_CO_solar_azimuth_angle',\n",
    "                     'L3_CO_solar_zenith_angle',\n",
    "                     'L3_HCHO_sensor_zenith_angle', \n",
    "                     'L3_HCHO_solar_azimuth_angle',\n",
    "                     'L3_HCHO_sensor_azimuth_angle',\n",
    "                     'L3_HCHO_solar_zenith_angle',\n",
    "                     'L3_CLOUD_sensor_azimuth_angle', \n",
    "                     'L3_CLOUD_sensor_zenith_angle',\n",
    "                     'L3_CLOUD_solar_azimuth_angle', \n",
    "                     'L3_CLOUD_solar_zenith_angle',\n",
    "                     'L3_AER_AI_sensor_altitude', \n",
    "                     'L3_AER_AI_sensor_azimuth_angle',\n",
    "                     'L3_AER_AI_sensor_zenith_angle', \n",
    "                     'L3_AER_AI_solar_azimuth_angle',\n",
    "                     'L3_AER_AI_solar_zenith_angle',\n",
    "                     'L3_SO2_sensor_azimuth_angle', \n",
    "                     'L3_SO2_sensor_zenith_angle',\n",
    "                     'L3_SO2_solar_azimuth_angle', \n",
    "                     'L3_SO2_solar_zenith_angle', \n",
    "                     'L3_CH4_sensor_azimuth_angle', \n",
    "                     'L3_CH4_sensor_zenith_angle',\n",
    "                     'L3_CH4_solar_azimuth_angle', \n",
    "                     'L3_CH4_solar_zenith_angle',\n",
    "                     'L3_CH4_CH4_column_volume_mixing_ratio_dry_air',\n",
    "                     'L3_CH4_aerosol_height',\n",
    "                     'L3_CH4_aerosol_optical_depth'  \n",
    "                    ]\n",
    "\n",
    "df_reduced = df.drop(columns = columns_to_delete, axis = 1)"
   ]
  },
  {
   "cell_type": "markdown",
   "id": "3b53ab35-056a-4677-8d1c-82bea2a3e0d2",
   "metadata": {
    "tags": []
   },
   "source": [
    "**Split test data in 80% train and 20% test data**"
   ]
  },
  {
   "cell_type": "code",
   "execution_count": 4,
   "id": "545fe27d-17c7-4d6d-a2af-be4ffd35836d",
   "metadata": {
    "tags": []
   },
   "outputs": [],
   "source": [
    "RSEED = 9 \n",
    "\n",
    "# Define x/y\n",
    "X = df_reduced \n",
    "y = np.array(X.pop('target'))\n",
    "\n",
    "# split train/test data\n",
    "train_X, test_X, train_y, test_y = train_test_split(X, y,\n",
    "                                                    test_size = 0.2, \n",
    "                                                    random_state = RSEED)"
   ]
  },
  {
   "cell_type": "markdown",
   "id": "2d83a8f8-2a3b-4977-806f-b5fa6483824e",
   "metadata": {},
   "source": [
    "**Change data types**"
   ]
  },
  {
   "cell_type": "code",
   "execution_count": 5,
   "id": "204fb92e-dad1-4355-bc31-764d76f7f74c",
   "metadata": {
    "tags": []
   },
   "outputs": [],
   "source": [
    "X['Date'] = pd.to_datetime(X['Date'])"
   ]
  },
  {
   "cell_type": "code",
   "execution_count": 6,
   "id": "7f3ccb1b-ad3d-4120-b24a-85e5e3671f45",
   "metadata": {
    "tags": []
   },
   "outputs": [],
   "source": [
    "#sns.heatmap(X.isna())"
   ]
  },
  {
   "cell_type": "markdown",
   "id": "50c3b97f-d725-4556-95f6-df8417975dd9",
   "metadata": {},
   "source": [
    "**Baseline Model**"
   ]
  },
  {
   "cell_type": "code",
   "execution_count": 7,
   "id": "d8cb4080-cb2d-43c0-8247-610bd2ae32d6",
   "metadata": {
    "tags": []
   },
   "outputs": [
    {
     "data": {
      "text/html": [
       "<style>#sk-container-id-2 {color: black;background-color: white;}#sk-container-id-2 pre{padding: 0;}#sk-container-id-2 div.sk-toggleable {background-color: white;}#sk-container-id-2 label.sk-toggleable__label {cursor: pointer;display: block;width: 100%;margin-bottom: 0;padding: 0.3em;box-sizing: border-box;text-align: center;}#sk-container-id-2 label.sk-toggleable__label-arrow:before {content: \"▸\";float: left;margin-right: 0.25em;color: #696969;}#sk-container-id-2 label.sk-toggleable__label-arrow:hover:before {color: black;}#sk-container-id-2 div.sk-estimator:hover label.sk-toggleable__label-arrow:before {color: black;}#sk-container-id-2 div.sk-toggleable__content {max-height: 0;max-width: 0;overflow: hidden;text-align: left;background-color: #f0f8ff;}#sk-container-id-2 div.sk-toggleable__content pre {margin: 0.2em;color: black;border-radius: 0.25em;background-color: #f0f8ff;}#sk-container-id-2 input.sk-toggleable__control:checked~div.sk-toggleable__content {max-height: 200px;max-width: 100%;overflow: auto;}#sk-container-id-2 input.sk-toggleable__control:checked~label.sk-toggleable__label-arrow:before {content: \"▾\";}#sk-container-id-2 div.sk-estimator input.sk-toggleable__control:checked~label.sk-toggleable__label {background-color: #d4ebff;}#sk-container-id-2 div.sk-label input.sk-toggleable__control:checked~label.sk-toggleable__label {background-color: #d4ebff;}#sk-container-id-2 input.sk-hidden--visually {border: 0;clip: rect(1px 1px 1px 1px);clip: rect(1px, 1px, 1px, 1px);height: 1px;margin: -1px;overflow: hidden;padding: 0;position: absolute;width: 1px;}#sk-container-id-2 div.sk-estimator {font-family: monospace;background-color: #f0f8ff;border: 1px dotted black;border-radius: 0.25em;box-sizing: border-box;margin-bottom: 0.5em;}#sk-container-id-2 div.sk-estimator:hover {background-color: #d4ebff;}#sk-container-id-2 div.sk-parallel-item::after {content: \"\";width: 100%;border-bottom: 1px solid gray;flex-grow: 1;}#sk-container-id-2 div.sk-label:hover label.sk-toggleable__label {background-color: #d4ebff;}#sk-container-id-2 div.sk-serial::before {content: \"\";position: absolute;border-left: 1px solid gray;box-sizing: border-box;top: 0;bottom: 0;left: 50%;z-index: 0;}#sk-container-id-2 div.sk-serial {display: flex;flex-direction: column;align-items: center;background-color: white;padding-right: 0.2em;padding-left: 0.2em;position: relative;}#sk-container-id-2 div.sk-item {position: relative;z-index: 1;}#sk-container-id-2 div.sk-parallel {display: flex;align-items: stretch;justify-content: center;background-color: white;position: relative;}#sk-container-id-2 div.sk-item::before, #sk-container-id-2 div.sk-parallel-item::before {content: \"\";position: absolute;border-left: 1px solid gray;box-sizing: border-box;top: 0;bottom: 0;left: 50%;z-index: -1;}#sk-container-id-2 div.sk-parallel-item {display: flex;flex-direction: column;z-index: 1;position: relative;background-color: white;}#sk-container-id-2 div.sk-parallel-item:first-child::after {align-self: flex-end;width: 50%;}#sk-container-id-2 div.sk-parallel-item:last-child::after {align-self: flex-start;width: 50%;}#sk-container-id-2 div.sk-parallel-item:only-child::after {width: 0;}#sk-container-id-2 div.sk-dashed-wrapped {border: 1px dashed gray;margin: 0 0.4em 0.5em 0.4em;box-sizing: border-box;padding-bottom: 0.4em;background-color: white;}#sk-container-id-2 div.sk-label label {font-family: monospace;font-weight: bold;display: inline-block;line-height: 1.2em;}#sk-container-id-2 div.sk-label-container {text-align: center;}#sk-container-id-2 div.sk-container {/* jupyter's `normalize.less` sets `[hidden] { display: none; }` but bootstrap.min.css set `[hidden] { display: none !important; }` so we also need the `!important` here to be able to override the default hidden behavior on the sphinx rendered scikit-learn.org. See: https://github.com/scikit-learn/scikit-learn/issues/21755 */display: inline-block !important;position: relative;}#sk-container-id-2 div.sk-text-repr-fallback {display: none;}</style><div id=\"sk-container-id-2\" class=\"sk-top-container\"><div class=\"sk-text-repr-fallback\"><pre>Pipeline(steps=[(&#x27;imputing&#x27;, SimpleImputer()),\n",
       "                (&#x27;standard_scaler&#x27;, StandardScaler())])</pre><b>In a Jupyter environment, please rerun this cell to show the HTML representation or trust the notebook. <br />On GitHub, the HTML representation is unable to render, please try loading this page with nbviewer.org.</b></div><div class=\"sk-container\" hidden><div class=\"sk-item sk-dashed-wrapped\"><div class=\"sk-label-container\"><div class=\"sk-label sk-toggleable\"><input class=\"sk-toggleable__control sk-hidden--visually\" id=\"sk-estimator-id-4\" type=\"checkbox\" ><label for=\"sk-estimator-id-4\" class=\"sk-toggleable__label sk-toggleable__label-arrow\">Pipeline</label><div class=\"sk-toggleable__content\"><pre>Pipeline(steps=[(&#x27;imputing&#x27;, SimpleImputer()),\n",
       "                (&#x27;standard_scaler&#x27;, StandardScaler())])</pre></div></div></div><div class=\"sk-serial\"><div class=\"sk-item\"><div class=\"sk-estimator sk-toggleable\"><input class=\"sk-toggleable__control sk-hidden--visually\" id=\"sk-estimator-id-5\" type=\"checkbox\" ><label for=\"sk-estimator-id-5\" class=\"sk-toggleable__label sk-toggleable__label-arrow\">SimpleImputer</label><div class=\"sk-toggleable__content\"><pre>SimpleImputer()</pre></div></div></div><div class=\"sk-item\"><div class=\"sk-estimator sk-toggleable\"><input class=\"sk-toggleable__control sk-hidden--visually\" id=\"sk-estimator-id-6\" type=\"checkbox\" ><label for=\"sk-estimator-id-6\" class=\"sk-toggleable__label sk-toggleable__label-arrow\">StandardScaler</label><div class=\"sk-toggleable__content\"><pre>StandardScaler()</pre></div></div></div></div></div></div></div>"
      ],
      "text/plain": [
       "Pipeline(steps=[('imputing', SimpleImputer()),\n",
       "                ('standard_scaler', StandardScaler())])"
      ]
     },
     "execution_count": 12,
     "metadata": {},
     "output_type": "execute_result"
    }
   ],
   "source": [
    "# impute missing values and transform\n",
    "preprocessing = Pipeline(steps=[\n",
    "    ('imputing', SimpleImputer(strategy='mean')), \n",
    "    ('standard_scaler', StandardScaler())\n",
    "])\n",
    "preprocessing"
   ]
  },
  {
   "cell_type": "code",
   "execution_count": 8,
   "id": "59a0ad4a-5d1c-4e0b-adad-f516471eebbb",
   "metadata": {
    "tags": []
   },
   "outputs": [
    {
     "data": {
      "text/html": [
       "<style>#sk-container-id-3 {color: black;background-color: white;}#sk-container-id-3 pre{padding: 0;}#sk-container-id-3 div.sk-toggleable {background-color: white;}#sk-container-id-3 label.sk-toggleable__label {cursor: pointer;display: block;width: 100%;margin-bottom: 0;padding: 0.3em;box-sizing: border-box;text-align: center;}#sk-container-id-3 label.sk-toggleable__label-arrow:before {content: \"▸\";float: left;margin-right: 0.25em;color: #696969;}#sk-container-id-3 label.sk-toggleable__label-arrow:hover:before {color: black;}#sk-container-id-3 div.sk-estimator:hover label.sk-toggleable__label-arrow:before {color: black;}#sk-container-id-3 div.sk-toggleable__content {max-height: 0;max-width: 0;overflow: hidden;text-align: left;background-color: #f0f8ff;}#sk-container-id-3 div.sk-toggleable__content pre {margin: 0.2em;color: black;border-radius: 0.25em;background-color: #f0f8ff;}#sk-container-id-3 input.sk-toggleable__control:checked~div.sk-toggleable__content {max-height: 200px;max-width: 100%;overflow: auto;}#sk-container-id-3 input.sk-toggleable__control:checked~label.sk-toggleable__label-arrow:before {content: \"▾\";}#sk-container-id-3 div.sk-estimator input.sk-toggleable__control:checked~label.sk-toggleable__label {background-color: #d4ebff;}#sk-container-id-3 div.sk-label input.sk-toggleable__control:checked~label.sk-toggleable__label {background-color: #d4ebff;}#sk-container-id-3 input.sk-hidden--visually {border: 0;clip: rect(1px 1px 1px 1px);clip: rect(1px, 1px, 1px, 1px);height: 1px;margin: -1px;overflow: hidden;padding: 0;position: absolute;width: 1px;}#sk-container-id-3 div.sk-estimator {font-family: monospace;background-color: #f0f8ff;border: 1px dotted black;border-radius: 0.25em;box-sizing: border-box;margin-bottom: 0.5em;}#sk-container-id-3 div.sk-estimator:hover {background-color: #d4ebff;}#sk-container-id-3 div.sk-parallel-item::after {content: \"\";width: 100%;border-bottom: 1px solid gray;flex-grow: 1;}#sk-container-id-3 div.sk-label:hover label.sk-toggleable__label {background-color: #d4ebff;}#sk-container-id-3 div.sk-serial::before {content: \"\";position: absolute;border-left: 1px solid gray;box-sizing: border-box;top: 0;bottom: 0;left: 50%;z-index: 0;}#sk-container-id-3 div.sk-serial {display: flex;flex-direction: column;align-items: center;background-color: white;padding-right: 0.2em;padding-left: 0.2em;position: relative;}#sk-container-id-3 div.sk-item {position: relative;z-index: 1;}#sk-container-id-3 div.sk-parallel {display: flex;align-items: stretch;justify-content: center;background-color: white;position: relative;}#sk-container-id-3 div.sk-item::before, #sk-container-id-3 div.sk-parallel-item::before {content: \"\";position: absolute;border-left: 1px solid gray;box-sizing: border-box;top: 0;bottom: 0;left: 50%;z-index: -1;}#sk-container-id-3 div.sk-parallel-item {display: flex;flex-direction: column;z-index: 1;position: relative;background-color: white;}#sk-container-id-3 div.sk-parallel-item:first-child::after {align-self: flex-end;width: 50%;}#sk-container-id-3 div.sk-parallel-item:last-child::after {align-self: flex-start;width: 50%;}#sk-container-id-3 div.sk-parallel-item:only-child::after {width: 0;}#sk-container-id-3 div.sk-dashed-wrapped {border: 1px dashed gray;margin: 0 0.4em 0.5em 0.4em;box-sizing: border-box;padding-bottom: 0.4em;background-color: white;}#sk-container-id-3 div.sk-label label {font-family: monospace;font-weight: bold;display: inline-block;line-height: 1.2em;}#sk-container-id-3 div.sk-label-container {text-align: center;}#sk-container-id-3 div.sk-container {/* jupyter's `normalize.less` sets `[hidden] { display: none; }` but bootstrap.min.css set `[hidden] { display: none !important; }` so we also need the `!important` here to be able to override the default hidden behavior on the sphinx rendered scikit-learn.org. See: https://github.com/scikit-learn/scikit-learn/issues/21755 */display: inline-block !important;position: relative;}#sk-container-id-3 div.sk-text-repr-fallback {display: none;}</style><div id=\"sk-container-id-3\" class=\"sk-top-container\"><div class=\"sk-text-repr-fallback\"><pre>ColumnTransformer(transformers=[(&#x27;transformations&#x27;,\n",
       "                                 Pipeline(steps=[(&#x27;imputing&#x27;, SimpleImputer()),\n",
       "                                                 (&#x27;standard_scaler&#x27;,\n",
       "                                                  StandardScaler())]),\n",
       "                                 Index([&#x27;precipitable_water_entire_atmosphere&#x27;,\n",
       "       &#x27;specific_humidity_2m_above_ground&#x27;, &#x27;temperature_2m_above_ground&#x27;,\n",
       "       &#x27;u_component_of_wind_10m_above_ground&#x27;,\n",
       "       &#x27;v_component_of_wind_10m_above_ground&#x27;,\n",
       "       &#x27;L3_NO2_NO2_column_number...\n",
       "       &#x27;L3_CLOUD_cloud_base_height&#x27;, &#x27;L3_CLOUD_cloud_base_pressure&#x27;,\n",
       "       &#x27;L3_CLOUD_cloud_fraction&#x27;, &#x27;L3_CLOUD_cloud_optical_depth&#x27;,\n",
       "       &#x27;L3_CLOUD_cloud_top_height&#x27;, &#x27;L3_CLOUD_cloud_top_pressure&#x27;,\n",
       "       &#x27;L3_CLOUD_surface_albedo&#x27;, &#x27;L3_AER_AI_absorbing_aerosol_index&#x27;,\n",
       "       &#x27;L3_SO2_SO2_column_number_density&#x27;,\n",
       "       &#x27;L3_SO2_SO2_column_number_density_amf&#x27;,\n",
       "       &#x27;L3_SO2_absorbing_aerosol_index&#x27;, &#x27;L3_SO2_cloud_fraction&#x27;],\n",
       "      dtype=&#x27;object&#x27;))])</pre><b>In a Jupyter environment, please rerun this cell to show the HTML representation or trust the notebook. <br />On GitHub, the HTML representation is unable to render, please try loading this page with nbviewer.org.</b></div><div class=\"sk-container\" hidden><div class=\"sk-item sk-dashed-wrapped\"><div class=\"sk-label-container\"><div class=\"sk-label sk-toggleable\"><input class=\"sk-toggleable__control sk-hidden--visually\" id=\"sk-estimator-id-7\" type=\"checkbox\" ><label for=\"sk-estimator-id-7\" class=\"sk-toggleable__label sk-toggleable__label-arrow\">ColumnTransformer</label><div class=\"sk-toggleable__content\"><pre>ColumnTransformer(transformers=[(&#x27;transformations&#x27;,\n",
       "                                 Pipeline(steps=[(&#x27;imputing&#x27;, SimpleImputer()),\n",
       "                                                 (&#x27;standard_scaler&#x27;,\n",
       "                                                  StandardScaler())]),\n",
       "                                 Index([&#x27;precipitable_water_entire_atmosphere&#x27;,\n",
       "       &#x27;specific_humidity_2m_above_ground&#x27;, &#x27;temperature_2m_above_ground&#x27;,\n",
       "       &#x27;u_component_of_wind_10m_above_ground&#x27;,\n",
       "       &#x27;v_component_of_wind_10m_above_ground&#x27;,\n",
       "       &#x27;L3_NO2_NO2_column_number...\n",
       "       &#x27;L3_CLOUD_cloud_base_height&#x27;, &#x27;L3_CLOUD_cloud_base_pressure&#x27;,\n",
       "       &#x27;L3_CLOUD_cloud_fraction&#x27;, &#x27;L3_CLOUD_cloud_optical_depth&#x27;,\n",
       "       &#x27;L3_CLOUD_cloud_top_height&#x27;, &#x27;L3_CLOUD_cloud_top_pressure&#x27;,\n",
       "       &#x27;L3_CLOUD_surface_albedo&#x27;, &#x27;L3_AER_AI_absorbing_aerosol_index&#x27;,\n",
       "       &#x27;L3_SO2_SO2_column_number_density&#x27;,\n",
       "       &#x27;L3_SO2_SO2_column_number_density_amf&#x27;,\n",
       "       &#x27;L3_SO2_absorbing_aerosol_index&#x27;, &#x27;L3_SO2_cloud_fraction&#x27;],\n",
       "      dtype=&#x27;object&#x27;))])</pre></div></div></div><div class=\"sk-parallel\"><div class=\"sk-parallel-item\"><div class=\"sk-item\"><div class=\"sk-label-container\"><div class=\"sk-label sk-toggleable\"><input class=\"sk-toggleable__control sk-hidden--visually\" id=\"sk-estimator-id-8\" type=\"checkbox\" ><label for=\"sk-estimator-id-8\" class=\"sk-toggleable__label sk-toggleable__label-arrow\">transformations</label><div class=\"sk-toggleable__content\"><pre>Index([&#x27;precipitable_water_entire_atmosphere&#x27;,\n",
       "       &#x27;specific_humidity_2m_above_ground&#x27;, &#x27;temperature_2m_above_ground&#x27;,\n",
       "       &#x27;u_component_of_wind_10m_above_ground&#x27;,\n",
       "       &#x27;v_component_of_wind_10m_above_ground&#x27;,\n",
       "       &#x27;L3_NO2_NO2_column_number_density&#x27;, &#x27;L3_NO2_absorbing_aerosol_index&#x27;,\n",
       "       &#x27;L3_NO2_cloud_fraction&#x27;, &#x27;L3_NO2_tropopause_pressure&#x27;,\n",
       "       &#x27;L3_NO2_tropospheric_NO2_column_number_density&#x27;,\n",
       "       &#x27;L3_O3_O3_column_number_density&#x27;, &#x27;L3_O3_O3_effective_temperature&#x27;,\n",
       "       &#x27;L3_O3_cloud_fraction&#x27;, &#x27;L3_CO_CO_column_number_density&#x27;,\n",
       "       &#x27;L3_CO_H2O_column_number_density&#x27;, &#x27;L3_CO_cloud_height&#x27;,\n",
       "       &#x27;L3_HCHO_HCHO_slant_column_number_density&#x27;, &#x27;L3_HCHO_cloud_fraction&#x27;,\n",
       "       &#x27;L3_HCHO_tropospheric_HCHO_column_number_density&#x27;,\n",
       "       &#x27;L3_HCHO_tropospheric_HCHO_column_number_density_amf&#x27;,\n",
       "       &#x27;L3_CLOUD_cloud_base_height&#x27;, &#x27;L3_CLOUD_cloud_base_pressure&#x27;,\n",
       "       &#x27;L3_CLOUD_cloud_fraction&#x27;, &#x27;L3_CLOUD_cloud_optical_depth&#x27;,\n",
       "       &#x27;L3_CLOUD_cloud_top_height&#x27;, &#x27;L3_CLOUD_cloud_top_pressure&#x27;,\n",
       "       &#x27;L3_CLOUD_surface_albedo&#x27;, &#x27;L3_AER_AI_absorbing_aerosol_index&#x27;,\n",
       "       &#x27;L3_SO2_SO2_column_number_density&#x27;,\n",
       "       &#x27;L3_SO2_SO2_column_number_density_amf&#x27;,\n",
       "       &#x27;L3_SO2_absorbing_aerosol_index&#x27;, &#x27;L3_SO2_cloud_fraction&#x27;],\n",
       "      dtype=&#x27;object&#x27;)</pre></div></div></div><div class=\"sk-serial\"><div class=\"sk-item\"><div class=\"sk-serial\"><div class=\"sk-item\"><div class=\"sk-estimator sk-toggleable\"><input class=\"sk-toggleable__control sk-hidden--visually\" id=\"sk-estimator-id-9\" type=\"checkbox\" ><label for=\"sk-estimator-id-9\" class=\"sk-toggleable__label sk-toggleable__label-arrow\">SimpleImputer</label><div class=\"sk-toggleable__content\"><pre>SimpleImputer()</pre></div></div></div><div class=\"sk-item\"><div class=\"sk-estimator sk-toggleable\"><input class=\"sk-toggleable__control sk-hidden--visually\" id=\"sk-estimator-id-10\" type=\"checkbox\" ><label for=\"sk-estimator-id-10\" class=\"sk-toggleable__label sk-toggleable__label-arrow\">StandardScaler</label><div class=\"sk-toggleable__content\"><pre>StandardScaler()</pre></div></div></div></div></div></div></div></div></div></div></div></div>"
      ],
      "text/plain": [
       "ColumnTransformer(transformers=[('transformations',\n",
       "                                 Pipeline(steps=[('imputing', SimpleImputer()),\n",
       "                                                 ('standard_scaler',\n",
       "                                                  StandardScaler())]),\n",
       "                                 Index(['precipitable_water_entire_atmosphere',\n",
       "       'specific_humidity_2m_above_ground', 'temperature_2m_above_ground',\n",
       "       'u_component_of_wind_10m_above_ground',\n",
       "       'v_component_of_wind_10m_above_ground',\n",
       "       'L3_NO2_NO2_column_number...\n",
       "       'L3_CLOUD_cloud_base_height', 'L3_CLOUD_cloud_base_pressure',\n",
       "       'L3_CLOUD_cloud_fraction', 'L3_CLOUD_cloud_optical_depth',\n",
       "       'L3_CLOUD_cloud_top_height', 'L3_CLOUD_cloud_top_pressure',\n",
       "       'L3_CLOUD_surface_albedo', 'L3_AER_AI_absorbing_aerosol_index',\n",
       "       'L3_SO2_SO2_column_number_density',\n",
       "       'L3_SO2_SO2_column_number_density_amf',\n",
       "       'L3_SO2_absorbing_aerosol_index', 'L3_SO2_cloud_fraction'],\n",
       "      dtype='object'))])"
      ]
     },
     "execution_count": 13,
     "metadata": {},
     "output_type": "execute_result"
    }
   ],
   "source": [
    "preprocessing = ColumnTransformer([\n",
    "    ('transformations', preprocessing, X.columns.drop(['Place_ID', 'Date']))\n",
    "])\n",
    "preprocessing"
   ]
  },
  {
   "cell_type": "code",
   "execution_count": 9,
   "id": "135614db-dc94-4108-ba8b-bb3a52180c9c",
   "metadata": {
    "tags": []
   },
   "outputs": [],
   "source": [
    "pipe_dectree = Pipeline([\n",
    "    ('preprocessor', preprocessing),\n",
    "    ('regressor', DecisionTreeRegressor(max_depth=10))\n",
    "])"
   ]
  },
  {
   "cell_type": "code",
   "execution_count": 10,
   "id": "2d52d008-da40-4032-99eb-f96c9c59d723",
   "metadata": {
    "tags": []
   },
   "outputs": [
    {
     "data": {
      "text/html": [
       "<style>#sk-container-id-1 {color: black;background-color: white;}#sk-container-id-1 pre{padding: 0;}#sk-container-id-1 div.sk-toggleable {background-color: white;}#sk-container-id-1 label.sk-toggleable__label {cursor: pointer;display: block;width: 100%;margin-bottom: 0;padding: 0.3em;box-sizing: border-box;text-align: center;}#sk-container-id-1 label.sk-toggleable__label-arrow:before {content: \"▸\";float: left;margin-right: 0.25em;color: #696969;}#sk-container-id-1 label.sk-toggleable__label-arrow:hover:before {color: black;}#sk-container-id-1 div.sk-estimator:hover label.sk-toggleable__label-arrow:before {color: black;}#sk-container-id-1 div.sk-toggleable__content {max-height: 0;max-width: 0;overflow: hidden;text-align: left;background-color: #f0f8ff;}#sk-container-id-1 div.sk-toggleable__content pre {margin: 0.2em;color: black;border-radius: 0.25em;background-color: #f0f8ff;}#sk-container-id-1 input.sk-toggleable__control:checked~div.sk-toggleable__content {max-height: 200px;max-width: 100%;overflow: auto;}#sk-container-id-1 input.sk-toggleable__control:checked~label.sk-toggleable__label-arrow:before {content: \"▾\";}#sk-container-id-1 div.sk-estimator input.sk-toggleable__control:checked~label.sk-toggleable__label {background-color: #d4ebff;}#sk-container-id-1 div.sk-label input.sk-toggleable__control:checked~label.sk-toggleable__label {background-color: #d4ebff;}#sk-container-id-1 input.sk-hidden--visually {border: 0;clip: rect(1px 1px 1px 1px);clip: rect(1px, 1px, 1px, 1px);height: 1px;margin: -1px;overflow: hidden;padding: 0;position: absolute;width: 1px;}#sk-container-id-1 div.sk-estimator {font-family: monospace;background-color: #f0f8ff;border: 1px dotted black;border-radius: 0.25em;box-sizing: border-box;margin-bottom: 0.5em;}#sk-container-id-1 div.sk-estimator:hover {background-color: #d4ebff;}#sk-container-id-1 div.sk-parallel-item::after {content: \"\";width: 100%;border-bottom: 1px solid gray;flex-grow: 1;}#sk-container-id-1 div.sk-label:hover label.sk-toggleable__label {background-color: #d4ebff;}#sk-container-id-1 div.sk-serial::before {content: \"\";position: absolute;border-left: 1px solid gray;box-sizing: border-box;top: 0;bottom: 0;left: 50%;z-index: 0;}#sk-container-id-1 div.sk-serial {display: flex;flex-direction: column;align-items: center;background-color: white;padding-right: 0.2em;padding-left: 0.2em;position: relative;}#sk-container-id-1 div.sk-item {position: relative;z-index: 1;}#sk-container-id-1 div.sk-parallel {display: flex;align-items: stretch;justify-content: center;background-color: white;position: relative;}#sk-container-id-1 div.sk-item::before, #sk-container-id-1 div.sk-parallel-item::before {content: \"\";position: absolute;border-left: 1px solid gray;box-sizing: border-box;top: 0;bottom: 0;left: 50%;z-index: -1;}#sk-container-id-1 div.sk-parallel-item {display: flex;flex-direction: column;z-index: 1;position: relative;background-color: white;}#sk-container-id-1 div.sk-parallel-item:first-child::after {align-self: flex-end;width: 50%;}#sk-container-id-1 div.sk-parallel-item:last-child::after {align-self: flex-start;width: 50%;}#sk-container-id-1 div.sk-parallel-item:only-child::after {width: 0;}#sk-container-id-1 div.sk-dashed-wrapped {border: 1px dashed gray;margin: 0 0.4em 0.5em 0.4em;box-sizing: border-box;padding-bottom: 0.4em;background-color: white;}#sk-container-id-1 div.sk-label label {font-family: monospace;font-weight: bold;display: inline-block;line-height: 1.2em;}#sk-container-id-1 div.sk-label-container {text-align: center;}#sk-container-id-1 div.sk-container {/* jupyter's `normalize.less` sets `[hidden] { display: none; }` but bootstrap.min.css set `[hidden] { display: none !important; }` so we also need the `!important` here to be able to override the default hidden behavior on the sphinx rendered scikit-learn.org. See: https://github.com/scikit-learn/scikit-learn/issues/21755 */display: inline-block !important;position: relative;}#sk-container-id-1 div.sk-text-repr-fallback {display: none;}</style><div id=\"sk-container-id-1\" class=\"sk-top-container\"><div class=\"sk-text-repr-fallback\"><pre>Pipeline(steps=[(&#x27;preprocessor&#x27;,\n",
       "                 ColumnTransformer(transformers=[(&#x27;transformations&#x27;,\n",
       "                                                  Pipeline(steps=[(&#x27;imputing&#x27;,\n",
       "                                                                   SimpleImputer()),\n",
       "                                                                  (&#x27;standard_scaler&#x27;,\n",
       "                                                                   StandardScaler())]),\n",
       "                                                  Index([&#x27;precipitable_water_entire_atmosphere&#x27;,\n",
       "       &#x27;specific_humidity_2m_above_ground&#x27;, &#x27;temperature_2m_above_ground&#x27;,\n",
       "       &#x27;u_component_of_wind_10m_above_ground&#x27;,\n",
       "       &#x27;v_component_of_wind_10m_above_g...\n",
       "       &#x27;L3_CLOUD_cloud_fraction&#x27;, &#x27;L3_CLOUD_cloud_optical_depth&#x27;,\n",
       "       &#x27;L3_CLOUD_cloud_top_height&#x27;, &#x27;L3_CLOUD_cloud_top_pressure&#x27;,\n",
       "       &#x27;L3_CLOUD_surface_albedo&#x27;, &#x27;L3_AER_AI_absorbing_aerosol_index&#x27;,\n",
       "       &#x27;L3_SO2_SO2_column_number_density&#x27;,\n",
       "       &#x27;L3_SO2_SO2_column_number_density_amf&#x27;,\n",
       "       &#x27;L3_SO2_absorbing_aerosol_index&#x27;, &#x27;L3_SO2_cloud_fraction&#x27;],\n",
       "      dtype=&#x27;object&#x27;))])),\n",
       "                (&#x27;regressor&#x27;, DecisionTreeRegressor(max_depth=10))])</pre><b>In a Jupyter environment, please rerun this cell to show the HTML representation or trust the notebook. <br />On GitHub, the HTML representation is unable to render, please try loading this page with nbviewer.org.</b></div><div class=\"sk-container\" hidden><div class=\"sk-item sk-dashed-wrapped\"><div class=\"sk-label-container\"><div class=\"sk-label sk-toggleable\"><input class=\"sk-toggleable__control sk-hidden--visually\" id=\"sk-estimator-id-1\" type=\"checkbox\" ><label for=\"sk-estimator-id-1\" class=\"sk-toggleable__label sk-toggleable__label-arrow\">Pipeline</label><div class=\"sk-toggleable__content\"><pre>Pipeline(steps=[(&#x27;preprocessor&#x27;,\n",
       "                 ColumnTransformer(transformers=[(&#x27;transformations&#x27;,\n",
       "                                                  Pipeline(steps=[(&#x27;imputing&#x27;,\n",
       "                                                                   SimpleImputer()),\n",
       "                                                                  (&#x27;standard_scaler&#x27;,\n",
       "                                                                   StandardScaler())]),\n",
       "                                                  Index([&#x27;precipitable_water_entire_atmosphere&#x27;,\n",
       "       &#x27;specific_humidity_2m_above_ground&#x27;, &#x27;temperature_2m_above_ground&#x27;,\n",
       "       &#x27;u_component_of_wind_10m_above_ground&#x27;,\n",
       "       &#x27;v_component_of_wind_10m_above_g...\n",
       "       &#x27;L3_CLOUD_cloud_fraction&#x27;, &#x27;L3_CLOUD_cloud_optical_depth&#x27;,\n",
       "       &#x27;L3_CLOUD_cloud_top_height&#x27;, &#x27;L3_CLOUD_cloud_top_pressure&#x27;,\n",
       "       &#x27;L3_CLOUD_surface_albedo&#x27;, &#x27;L3_AER_AI_absorbing_aerosol_index&#x27;,\n",
       "       &#x27;L3_SO2_SO2_column_number_density&#x27;,\n",
       "       &#x27;L3_SO2_SO2_column_number_density_amf&#x27;,\n",
       "       &#x27;L3_SO2_absorbing_aerosol_index&#x27;, &#x27;L3_SO2_cloud_fraction&#x27;],\n",
       "      dtype=&#x27;object&#x27;))])),\n",
       "                (&#x27;regressor&#x27;, DecisionTreeRegressor(max_depth=10))])</pre></div></div></div><div class=\"sk-serial\"><div class=\"sk-item sk-dashed-wrapped\"><div class=\"sk-label-container\"><div class=\"sk-label sk-toggleable\"><input class=\"sk-toggleable__control sk-hidden--visually\" id=\"sk-estimator-id-2\" type=\"checkbox\" ><label for=\"sk-estimator-id-2\" class=\"sk-toggleable__label sk-toggleable__label-arrow\">preprocessor: ColumnTransformer</label><div class=\"sk-toggleable__content\"><pre>ColumnTransformer(transformers=[(&#x27;transformations&#x27;,\n",
       "                                 Pipeline(steps=[(&#x27;imputing&#x27;, SimpleImputer()),\n",
       "                                                 (&#x27;standard_scaler&#x27;,\n",
       "                                                  StandardScaler())]),\n",
       "                                 Index([&#x27;precipitable_water_entire_atmosphere&#x27;,\n",
       "       &#x27;specific_humidity_2m_above_ground&#x27;, &#x27;temperature_2m_above_ground&#x27;,\n",
       "       &#x27;u_component_of_wind_10m_above_ground&#x27;,\n",
       "       &#x27;v_component_of_wind_10m_above_ground&#x27;,\n",
       "       &#x27;L3_NO2_NO2_column_number...\n",
       "       &#x27;L3_CLOUD_cloud_base_height&#x27;, &#x27;L3_CLOUD_cloud_base_pressure&#x27;,\n",
       "       &#x27;L3_CLOUD_cloud_fraction&#x27;, &#x27;L3_CLOUD_cloud_optical_depth&#x27;,\n",
       "       &#x27;L3_CLOUD_cloud_top_height&#x27;, &#x27;L3_CLOUD_cloud_top_pressure&#x27;,\n",
       "       &#x27;L3_CLOUD_surface_albedo&#x27;, &#x27;L3_AER_AI_absorbing_aerosol_index&#x27;,\n",
       "       &#x27;L3_SO2_SO2_column_number_density&#x27;,\n",
       "       &#x27;L3_SO2_SO2_column_number_density_amf&#x27;,\n",
       "       &#x27;L3_SO2_absorbing_aerosol_index&#x27;, &#x27;L3_SO2_cloud_fraction&#x27;],\n",
       "      dtype=&#x27;object&#x27;))])</pre></div></div></div><div class=\"sk-parallel\"><div class=\"sk-parallel-item\"><div class=\"sk-item\"><div class=\"sk-label-container\"><div class=\"sk-label sk-toggleable\"><input class=\"sk-toggleable__control sk-hidden--visually\" id=\"sk-estimator-id-3\" type=\"checkbox\" ><label for=\"sk-estimator-id-3\" class=\"sk-toggleable__label sk-toggleable__label-arrow\">transformations</label><div class=\"sk-toggleable__content\"><pre>Index([&#x27;precipitable_water_entire_atmosphere&#x27;,\n",
       "       &#x27;specific_humidity_2m_above_ground&#x27;, &#x27;temperature_2m_above_ground&#x27;,\n",
       "       &#x27;u_component_of_wind_10m_above_ground&#x27;,\n",
       "       &#x27;v_component_of_wind_10m_above_ground&#x27;,\n",
       "       &#x27;L3_NO2_NO2_column_number_density&#x27;, &#x27;L3_NO2_absorbing_aerosol_index&#x27;,\n",
       "       &#x27;L3_NO2_cloud_fraction&#x27;, &#x27;L3_NO2_tropopause_pressure&#x27;,\n",
       "       &#x27;L3_NO2_tropospheric_NO2_column_number_density&#x27;,\n",
       "       &#x27;L3_O3_O3_column_number_density&#x27;, &#x27;L3_O3_O3_effective_temperature&#x27;,\n",
       "       &#x27;L3_O3_cloud_fraction&#x27;, &#x27;L3_CO_CO_column_number_density&#x27;,\n",
       "       &#x27;L3_CO_H2O_column_number_density&#x27;, &#x27;L3_CO_cloud_height&#x27;,\n",
       "       &#x27;L3_HCHO_HCHO_slant_column_number_density&#x27;, &#x27;L3_HCHO_cloud_fraction&#x27;,\n",
       "       &#x27;L3_HCHO_tropospheric_HCHO_column_number_density&#x27;,\n",
       "       &#x27;L3_HCHO_tropospheric_HCHO_column_number_density_amf&#x27;,\n",
       "       &#x27;L3_CLOUD_cloud_base_height&#x27;, &#x27;L3_CLOUD_cloud_base_pressure&#x27;,\n",
       "       &#x27;L3_CLOUD_cloud_fraction&#x27;, &#x27;L3_CLOUD_cloud_optical_depth&#x27;,\n",
       "       &#x27;L3_CLOUD_cloud_top_height&#x27;, &#x27;L3_CLOUD_cloud_top_pressure&#x27;,\n",
       "       &#x27;L3_CLOUD_surface_albedo&#x27;, &#x27;L3_AER_AI_absorbing_aerosol_index&#x27;,\n",
       "       &#x27;L3_SO2_SO2_column_number_density&#x27;,\n",
       "       &#x27;L3_SO2_SO2_column_number_density_amf&#x27;,\n",
       "       &#x27;L3_SO2_absorbing_aerosol_index&#x27;, &#x27;L3_SO2_cloud_fraction&#x27;],\n",
       "      dtype=&#x27;object&#x27;)</pre></div></div></div><div class=\"sk-serial\"><div class=\"sk-item\"><div class=\"sk-serial\"><div class=\"sk-item\"><div class=\"sk-estimator sk-toggleable\"><input class=\"sk-toggleable__control sk-hidden--visually\" id=\"sk-estimator-id-4\" type=\"checkbox\" ><label for=\"sk-estimator-id-4\" class=\"sk-toggleable__label sk-toggleable__label-arrow\">SimpleImputer</label><div class=\"sk-toggleable__content\"><pre>SimpleImputer()</pre></div></div></div><div class=\"sk-item\"><div class=\"sk-estimator sk-toggleable\"><input class=\"sk-toggleable__control sk-hidden--visually\" id=\"sk-estimator-id-5\" type=\"checkbox\" ><label for=\"sk-estimator-id-5\" class=\"sk-toggleable__label sk-toggleable__label-arrow\">StandardScaler</label><div class=\"sk-toggleable__content\"><pre>StandardScaler()</pre></div></div></div></div></div></div></div></div></div></div><div class=\"sk-item\"><div class=\"sk-estimator sk-toggleable\"><input class=\"sk-toggleable__control sk-hidden--visually\" id=\"sk-estimator-id-6\" type=\"checkbox\" ><label for=\"sk-estimator-id-6\" class=\"sk-toggleable__label sk-toggleable__label-arrow\">DecisionTreeRegressor</label><div class=\"sk-toggleable__content\"><pre>DecisionTreeRegressor(max_depth=10)</pre></div></div></div></div></div></div></div>"
      ],
      "text/plain": [
       "Pipeline(steps=[('preprocessor',\n",
       "                 ColumnTransformer(transformers=[('transformations',\n",
       "                                                  Pipeline(steps=[('imputing',\n",
       "                                                                   SimpleImputer()),\n",
       "                                                                  ('standard_scaler',\n",
       "                                                                   StandardScaler())]),\n",
       "                                                  Index(['precipitable_water_entire_atmosphere',\n",
       "       'specific_humidity_2m_above_ground', 'temperature_2m_above_ground',\n",
       "       'u_component_of_wind_10m_above_ground',\n",
       "       'v_component_of_wind_10m_above_g...\n",
       "       'L3_CLOUD_cloud_fraction', 'L3_CLOUD_cloud_optical_depth',\n",
       "       'L3_CLOUD_cloud_top_height', 'L3_CLOUD_cloud_top_pressure',\n",
       "       'L3_CLOUD_surface_albedo', 'L3_AER_AI_absorbing_aerosol_index',\n",
       "       'L3_SO2_SO2_column_number_density',\n",
       "       'L3_SO2_SO2_column_number_density_amf',\n",
       "       'L3_SO2_absorbing_aerosol_index', 'L3_SO2_cloud_fraction'],\n",
       "      dtype='object'))])),\n",
       "                ('regressor', DecisionTreeRegressor(max_depth=10))])"
      ]
     },
     "execution_count": 10,
     "metadata": {},
     "output_type": "execute_result"
    }
   ],
   "source": [
    "pipe_dectree.fit(train_X, train_y)"
   ]
  },
  {
   "cell_type": "code",
   "execution_count": 11,
   "id": "548fcd2c-ee49-4f4d-ae8f-dc0f08a1b6d9",
   "metadata": {
    "tags": []
   },
   "outputs": [
    {
     "name": "stdout",
     "output_type": "stream",
     "text": [
      "RMSE: 31.21\n"
     ]
    }
   ],
   "source": [
    "y_train_predicted = pipe_dectree.predict(train_X)\n",
    "print(\"RMSE: {:.2f}\".format(mean_squared_error(train_y, y_train_predicted, squared=False)))"
   ]
  },
  {
   "cell_type": "code",
   "execution_count": 12,
   "id": "aae7ad8b-280d-41b2-b674-8bd74ba0e52e",
   "metadata": {
    "tags": []
   },
   "outputs": [
    {
     "name": "stdout",
     "output_type": "stream",
     "text": [
      "RMSE: 38.42\n"
     ]
    }
   ],
   "source": [
    "y_test_predicted = pipe_dectree.predict(test_X)\n",
    "print(\"RMSE: {:.2f}\".format(mean_squared_error(test_y, y_test_predicted, squared=False)))\n"
   ]
  },
  {
   "cell_type": "code",
   "execution_count": 196,
   "id": "2d6bfdb8-e065-4e8f-9250-f405dea46de4",
   "metadata": {
    "tags": []
   },
   "outputs": [
    {
     "data": {
      "text/plain": [
       "815.0"
      ]
     },
     "execution_count": 196,
     "metadata": {},
     "output_type": "execute_result"
    }
   ],
   "source": [
    "y.max() #- y.min()"
   ]
  }
 ],
 "metadata": {
  "kernelspec": {
   "display_name": "Python 3 (ipykernel)",
   "language": "python",
   "name": "python3"
  },
  "language_info": {
   "codemirror_mode": {
    "name": "ipython",
    "version": 3
   },
   "file_extension": ".py",
   "mimetype": "text/x-python",
   "name": "python",
   "nbconvert_exporter": "python",
   "pygments_lexer": "ipython3",
   "version": "3.11.3"
  }
 },
 "nbformat": 4,
 "nbformat_minor": 5
}
