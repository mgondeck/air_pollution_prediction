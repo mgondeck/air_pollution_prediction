{
 "cells": [
  {
   "cell_type": "markdown",
   "id": "7a843079-859d-418d-b415-c8a9eb1b879b",
   "metadata": {},
   "source": [
    "**Log Transformer**"
   ]
  },
  {
   "cell_type": "code",
   "execution_count": 2,
   "id": "77f1c99d-2360-475e-ba95-9984f79a9a8d",
   "metadata": {
    "tags": []
   },
   "outputs": [],
   "source": [
    "from sklearn.base import BaseEstimator, TransformerMixin"
   ]
  },
  {
   "cell_type": "code",
   "execution_count": 5,
   "id": "e7c0d961-ce4d-40ef-83bb-0217a40f7257",
   "metadata": {
    "tags": []
   },
   "outputs": [],
   "source": [
    "# Custom transformer for log transformation\n",
    "class LogTransformer(BaseEstimator, TransformerMixin):\n",
    "    def __init__(self, columns=None):\n",
    "        self.columns = columns\n",
    "\n",
    "    def fit(self, X, y=None):\n",
    "        return self\n",
    "\n",
    "    def transform(self, X):\n",
    "        X[self.columns] = np.log1p(X[self.columns]) \n",
    "        return X"
   ]
  }
 ],
 "metadata": {
  "kernelspec": {
   "display_name": "Python 3 (ipykernel)",
   "language": "python",
   "name": "python3"
  },
  "language_info": {
   "codemirror_mode": {
    "name": "ipython",
    "version": 3
   },
   "file_extension": ".py",
   "mimetype": "text/x-python",
   "name": "python",
   "nbconvert_exporter": "python",
   "pygments_lexer": "ipython3",
   "version": "3.11.3"
  }
 },
 "nbformat": 4,
 "nbformat_minor": 5
}
