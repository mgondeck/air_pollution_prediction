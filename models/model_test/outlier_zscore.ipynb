{
 "cells": [
  {
   "cell_type": "markdown",
   "id": "7eda0c9a-d75f-44c4-8230-395620d8c70d",
   "metadata": {},
   "source": [
    "**Replace outliers**"
   ]
  },
  {
   "cell_type": "code",
   "execution_count": 1,
   "id": "4a802368-84ca-4aae-9ff4-52f6e64767e4",
   "metadata": {
    "tags": []
   },
   "outputs": [],
   "source": [
    "from sklearn.base import BaseEstimator, TransformerMixin"
   ]
  },
  {
   "cell_type": "code",
   "execution_count": 2,
   "id": "bf682a18-1e3d-45b6-af8b-009bbfa9a17b",
   "metadata": {
    "tags": []
   },
   "outputs": [],
   "source": [
    "class ReplaceOutliersWithMean(BaseEstimator, TransformerMixin):\n",
    "    def __init__(self, zscore_threshold=3):\n",
    "        self.zscore_threshold = zscore_threshold\n",
    "\n",
    "    def fit(self, X, y=None):\n",
    "        return self\n",
    "\n",
    "    def transform(self, X):\n",
    "        if not isinstance(X, np.ndarray):\n",
    "            raise ValueError(\"Input must be a NumPy array.\")\n",
    "        \n",
    "        for i in range(X.shape[1]):\n",
    "            z_scores = zscore(X[:, i])\n",
    "            outliers_mask = (z_scores > self.zscore_threshold) | (z_scores < -self.zscore_threshold)\n",
    "            mean_value = np.mean(X[:, i])\n",
    "            X[outliers_mask, i] = mean_value\n",
    "        \n",
    "        return X"
   ]
  }
 ],
 "metadata": {
  "kernelspec": {
   "display_name": "Python 3 (ipykernel)",
   "language": "python",
   "name": "python3"
  },
  "language_info": {
   "codemirror_mode": {
    "name": "ipython",
    "version": 3
   },
   "file_extension": ".py",
   "mimetype": "text/x-python",
   "name": "python",
   "nbconvert_exporter": "python",
   "pygments_lexer": "ipython3",
   "version": "3.11.3"
  }
 },
 "nbformat": 4,
 "nbformat_minor": 5
}
