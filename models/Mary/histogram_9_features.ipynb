{
 "cells": [
  {
   "cell_type": "code",
   "execution_count": 11,
   "id": "84de1cef-c5a2-4714-93e7-ede03b753938",
   "metadata": {
    "tags": []
   },
   "outputs": [],
   "source": [
    "# packages\n",
    "\n",
    "import seaborn as sns\n",
    "import matplotlib.pyplot as plt"
   ]
  },
  {
   "cell_type": "code",
   "execution_count": 23,
   "id": "22e21a1c-bddf-4bd8-9927-22cbbe1cb150",
   "metadata": {},
   "outputs": [],
   "source": [
    "# Plot histograms for features (max 9 features)\n",
    "\n",
    "def plot_histograms(df, train_X):\n",
    "    num_features = len(df.columns)\n",
    "    num_cols = 3\n",
    "    num_rows = 3\n",
    "    fig, ax = plt.subplots(num_rows, num_cols, figsize=(16, 16))\n",
    "    count = 0\n",
    "    for item in df.columns.tolist():\n",
    "        sns.histplot(train_X[item], kde=True, ax=ax[int(count/num_cols)][count%num_cols], color='#33658A').set(\n",
    "            title=item, xlabel='')\n",
    "        count += 1\n",
    "    ax.flat[-2].set_visible(False)\n",
    "    ax.flat[-1].set_visible(False)\n",
    "    fig.tight_layout(pad=3)"
   ]
  }
 ],
 "metadata": {
  "kernelspec": {
   "display_name": "Python 3 (ipykernel)",
   "language": "python",
   "name": "python3"
  },
  "language_info": {
   "codemirror_mode": {
    "name": "ipython",
    "version": 3
   },
   "file_extension": ".py",
   "mimetype": "text/x-python",
   "name": "python",
   "nbconvert_exporter": "python",
   "pygments_lexer": "ipython3",
   "version": "3.11.3"
  }
 },
 "nbformat": 4,
 "nbformat_minor": 5
}
