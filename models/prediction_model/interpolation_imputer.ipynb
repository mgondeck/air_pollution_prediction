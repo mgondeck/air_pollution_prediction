{
 "cells": [
  {
   "cell_type": "markdown",
   "id": "2a060309-981a-4213-b754-7bef61ca36b0",
   "metadata": {},
   "source": [
    "**Interpolation Imputer**"
   ]
  },
  {
   "cell_type": "code",
   "execution_count": 1,
   "id": "b0d95434-e702-4772-bc4a-ca8e28d0becb",
   "metadata": {
    "tags": []
   },
   "outputs": [],
   "source": [
    "from sklearn.base import BaseEstimator, TransformerMixin\n",
    "from sklearn.impute import SimpleImputer"
   ]
  },
  {
   "cell_type": "code",
   "execution_count": 2,
   "id": "9d1ecf98-89cf-49f0-ad47-c16421e4ec19",
   "metadata": {
    "tags": []
   },
   "outputs": [],
   "source": [
    "class InterpolationImputer(BaseEstimator, TransformerMixin):\n",
    "    def __init__(self, method='linear', limit_direction='both', axis=0):\n",
    "        self.method = method\n",
    "        self.axis = axis\n",
    "        self.limit_direction = limit_direction \n",
    "\n",
    "    def fit(self, X, y=None):\n",
    "        return self\n",
    "\n",
    "    def transform(self, X):\n",
    "        X = X.interpolate(method=self.method, limit_direction=self.limit_direction)\n",
    "        return X.to_numpy()  # Convert DataFrame to NumPy array"
   ]
  }
 ],
 "metadata": {
  "kernelspec": {
   "display_name": "Python 3 (ipykernel)",
   "language": "python",
   "name": "python3"
  },
  "language_info": {
   "codemirror_mode": {
    "name": "ipython",
    "version": 3
   },
   "file_extension": ".py",
   "mimetype": "text/x-python",
   "name": "python",
   "nbconvert_exporter": "python",
   "pygments_lexer": "ipython3",
   "version": "3.11.3"
  }
 },
 "nbformat": 4,
 "nbformat_minor": 5
}
