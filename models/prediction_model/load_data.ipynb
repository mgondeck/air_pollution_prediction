{
 "cells": [
  {
   "cell_type": "code",
   "execution_count": 2,
   "id": "df5257e1-d5b7-42ff-9771-298d4c56d4f4",
   "metadata": {
    "tags": []
   },
   "outputs": [],
   "source": [
    "import pandas as pd\n",
    "import numpy as np"
   ]
  },
  {
   "cell_type": "markdown",
   "id": "8bd54492-8fa7-43c6-8f2b-398b578d1537",
   "metadata": {},
   "source": [
    "**Load Data**"
   ]
  },
  {
   "cell_type": "code",
   "execution_count": 3,
   "id": "405ee9cb-c5b7-4234-93ea-61b16d9503dc",
   "metadata": {
    "tags": []
   },
   "outputs": [],
   "source": [
    "# paths to your CSV files\n",
    "file_path_train = \"/Users/mariegondeck/Desktop/air_pollution_prediction/data/Train.csv\"\n",
    "file_path_test = \"/Users/mariegondeck/Desktop/air_pollution_prediction/data/Test.csv\"\n",
    "\n",
    "# Read the CSV files\n",
    "train = pd.read_csv(file_path_train, sep=',')\n",
    "test = pd.read_csv(file_path_test, sep=',')"
   ]
  },
  {
   "cell_type": "markdown",
   "id": "a331197b-dcb0-465e-83dd-975f2a3da587",
   "metadata": {},
   "source": [
    "**Delete Columns**\n",
    "\n",
    "• Deleting uneccessary metadata and target columns\\\n",
    "• Delete columns with too many missing values\\\n",
    "• Keep the rest, as the features are weightes with KBest later \n"
   ]
  },
  {
   "cell_type": "code",
   "execution_count": 4,
   "id": "eb580ed4-e560-43ce-b040-fe81ea7d4d4c",
   "metadata": {
    "tags": []
   },
   "outputs": [],
   "source": [
    "columns_to_delete_train = [#removing metadata and redundant target columns\n",
    "                     'Place_ID X Date', \n",
    "                     'target_min', \n",
    "                     'target_max',\n",
    "                     'target_variance', \n",
    "                     'target_count',\n",
    "                     #delete columns with nearly 80% missing data\n",
    "                     'L3_CH4_aerosol_optical_depth', \n",
    "                     'L3_CH4_sensor_azimuth_angle',     \n",
    "                     'L3_CH4_sensor_zenith_angle',      \n",
    "                     'L3_CH4_solar_azimuth_angle',      \n",
    "                     'L3_CH4_solar_zenith_angle',\n",
    "                     'L3_CH4_CH4_column_volume_mixing_ratio_dry_air',\n",
    "                     'L3_CH4_aerosol_height']\n",
    "\n",
    "columns_to_delete_test = [#removing metadata and redundant target columns\n",
    "                     'Place_ID X Date', \n",
    "                     #delete columns with nearly 80% missing data\n",
    "                     'L3_CH4_aerosol_optical_depth', \n",
    "                     'L3_CH4_sensor_azimuth_angle',     \n",
    "                     'L3_CH4_sensor_zenith_angle',      \n",
    "                     'L3_CH4_solar_azimuth_angle',      \n",
    "                     'L3_CH4_solar_zenith_angle',\n",
    "                     'L3_CH4_CH4_column_volume_mixing_ratio_dry_air',\n",
    "                     'L3_CH4_aerosol_height']\n",
    "\n",
    "train_reduced = train.drop(columns = columns_to_delete_train, axis = 1)\n",
    "test_reduced = test.drop(columns = columns_to_delete_test, axis = 1)"
   ]
  },
  {
   "cell_type": "markdown",
   "id": "9e4e86c5-892c-4cc4-b44c-2ecd88921568",
   "metadata": {},
   "source": [
    "**Define train and test data**"
   ]
  },
  {
   "cell_type": "code",
   "execution_count": 5,
   "id": "b007359a-4afe-40aa-a6b4-85618110d30a",
   "metadata": {
    "tags": []
   },
   "outputs": [],
   "source": [
    "RSEED = 9 \n",
    "\n",
    "# Define X/y of train data \n",
    "train_X = train_reduced \n",
    "train_y = np.array(train_X.pop('target'))\n",
    "\n",
    "# Test data\n",
    "test_X = test_reduced"
   ]
  }
 ],
 "metadata": {
  "kernelspec": {
   "display_name": "Python 3 (ipykernel)",
   "language": "python",
   "name": "python3"
  },
  "language_info": {
   "codemirror_mode": {
    "name": "ipython",
    "version": 3
   },
   "file_extension": ".py",
   "mimetype": "text/x-python",
   "name": "python",
   "nbconvert_exporter": "python",
   "pygments_lexer": "ipython3",
   "version": "3.11.3"
  }
 },
 "nbformat": 4,
 "nbformat_minor": 5
}
